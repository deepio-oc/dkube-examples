{
 "cells": [
  {
   "cell_type": "code",
   "execution_count": 1,
   "metadata": {},
   "outputs": [],
   "source": [
    "from tensorflow import keras\n",
    "from tensorflow.keras import layers\n",
    "import gzip, pickle, os\n",
    "import numpy as np\n",
    "import tensorflow as tf"
   ]
  },
  {
   "cell_type": "code",
   "execution_count": 2,
   "metadata": {},
   "outputs": [],
   "source": [
    "# read env variables\n",
    "epochs = int(os.getenv(\"EPOCHS\",\"15\"))\n",
    "num_classes = 10\n",
    "input_shape = (28, 28, 1)\n",
    "batch_size = 128\n"
   ]
  },
  {
   "cell_type": "code",
   "execution_count": 3,
   "metadata": {},
   "outputs": [
    {
     "data": {
      "text/plain": [
       "(60000, 28, 28)"
      ]
     },
     "execution_count": 3,
     "metadata": {},
     "output_type": "execute_result"
    }
   ],
   "source": [
    "# Load dataset\n",
    "f = gzip.open('/mnist/mnist.pkl.gz', 'rb')\n",
    "data = pickle.load(f, encoding='bytes')\n",
    "f.close()\n",
    "(x_train, y_train), (x_test, y_test) = data\n",
    "x_train.shape"
   ]
  },
  {
   "cell_type": "code",
   "execution_count": 4,
   "metadata": {},
   "outputs": [
    {
     "name": "stdout",
     "output_type": "stream",
     "text": [
      "x_train shape: (60000, 28, 28, 1)\n",
      "60000 train samples\n",
      "10000 test samples\n"
     ]
    }
   ],
   "source": [
    "# Scale images to the [0, 1] range\n",
    "x_train = x_train.astype(\"float32\") / 255\n",
    "x_test = x_test.astype(\"float32\") / 255\n",
    "# Make sure images have shape (28, 28, 1)\n",
    "x_train = np.expand_dims(x_train, -1)\n",
    "x_test = np.expand_dims(x_test, -1)\n",
    "print(\"x_train shape:\", x_train.shape)\n",
    "print(x_train.shape[0], \"train samples\")\n",
    "print(x_test.shape[0], \"test samples\")\n",
    "\n",
    "\n",
    "# convert class vectors to binary class matrices\n",
    "y_train = keras.utils.to_categorical(y_train, num_classes)\n",
    "y_test = keras.utils.to_categorical(y_test, num_classes)"
   ]
  },
  {
   "cell_type": "code",
   "execution_count": 5,
   "metadata": {},
   "outputs": [],
   "source": [
    "model = keras.Sequential(\n",
    "    [\n",
    "        keras.Input(shape=input_shape),\n",
    "        layers.Conv2D(32, kernel_size=(3, 3), activation=\"relu\"),\n",
    "        layers.MaxPooling2D(pool_size=(2, 2)),\n",
    "        layers.Conv2D(64, kernel_size=(3, 3), activation=\"relu\"),\n",
    "        layers.MaxPooling2D(pool_size=(2, 2)),\n",
    "        layers.Flatten(),\n",
    "        layers.Dropout(0.5),\n",
    "        layers.Dense(num_classes, activation=\"softmax\"),\n",
    "    ]\n",
    ")\n"
   ]
  },
  {
   "cell_type": "code",
   "execution_count": 7,
   "metadata": {},
   "outputs": [
    {
     "name": "stdout",
     "output_type": "stream",
     "text": [
      "Train on 54000 samples, validate on 6000 samples\n",
      "Epoch 1/15\n",
      "54000/54000 [==============================] - 18s 336us/sample - loss: 0.3619 - accuracy: 0.8895 - val_loss: 0.0843 - val_accuracy: 0.9763\n",
      "Epoch 2/15\n",
      "54000/54000 [==============================] - 17s 321us/sample - loss: 0.1137 - accuracy: 0.9646 - val_loss: 0.0567 - val_accuracy: 0.9843\n",
      "Epoch 3/15\n",
      "54000/54000 [==============================] - 17s 320us/sample - loss: 0.0851 - accuracy: 0.9736 - val_loss: 0.0478 - val_accuracy: 0.9872\n",
      "Epoch 4/15\n",
      "54000/54000 [==============================] - 17s 319us/sample - loss: 0.0714 - accuracy: 0.9774 - val_loss: 0.0481 - val_accuracy: 0.9860\n",
      "Epoch 5/15\n",
      "54000/54000 [==============================] - 17s 319us/sample - loss: 0.0624 - accuracy: 0.9801 - val_loss: 0.0387 - val_accuracy: 0.9892\n",
      "Epoch 6/15\n",
      "54000/54000 [==============================] - 17s 321us/sample - loss: 0.0563 - accuracy: 0.9829 - val_loss: 0.0365 - val_accuracy: 0.9905\n",
      "Epoch 7/15\n",
      "54000/54000 [==============================] - 17s 317us/sample - loss: 0.0526 - accuracy: 0.9835 - val_loss: 0.0392 - val_accuracy: 0.9875\n",
      "Epoch 8/15\n",
      "54000/54000 [==============================] - 17s 315us/sample - loss: 0.0482 - accuracy: 0.9848 - val_loss: 0.0321 - val_accuracy: 0.9903\n",
      "Epoch 9/15\n",
      "54000/54000 [==============================] - 17s 319us/sample - loss: 0.0453 - accuracy: 0.9862 - val_loss: 0.0347 - val_accuracy: 0.9905\n",
      "Epoch 10/15\n",
      "54000/54000 [==============================] - 17s 317us/sample - loss: 0.0431 - accuracy: 0.9864 - val_loss: 0.0326 - val_accuracy: 0.9917\n",
      "Epoch 11/15\n",
      "54000/54000 [==============================] - 17s 318us/sample - loss: 0.0410 - accuracy: 0.9870 - val_loss: 0.0341 - val_accuracy: 0.9902\n",
      "Epoch 12/15\n",
      "54000/54000 [==============================] - 17s 322us/sample - loss: 0.0389 - accuracy: 0.9878 - val_loss: 0.0320 - val_accuracy: 0.9912\n",
      "Epoch 13/15\n",
      "54000/54000 [==============================] - 17s 319us/sample - loss: 0.0354 - accuracy: 0.9884 - val_loss: 0.0297 - val_accuracy: 0.9920\n",
      "Epoch 14/15\n",
      "54000/54000 [==============================] - 17s 317us/sample - loss: 0.0358 - accuracy: 0.9886 - val_loss: 0.0299 - val_accuracy: 0.9927\n",
      "Epoch 15/15\n",
      "54000/54000 [==============================] - 17s 323us/sample - loss: 0.0344 - accuracy: 0.9888 - val_loss: 0.0270 - val_accuracy: 0.9927\n"
     ]
    },
    {
     "data": {
      "text/plain": [
       "<tensorflow.python.keras.callbacks.History at 0x7fe60d5abc88>"
      ]
     },
     "execution_count": 7,
     "metadata": {},
     "output_type": "execute_result"
    }
   ],
   "source": [
    "\n",
    "\n",
    "model.compile(loss=\"categorical_crossentropy\", optimizer=\"adam\", metrics=[\"accuracy\"])\n",
    "\n",
    "model.fit(x_train, y_train, batch_size=batch_size, epochs=epochs, validation_split=0.1)"
   ]
  },
  {
   "cell_type": "code",
   "execution_count": 8,
   "metadata": {},
   "outputs": [
    {
     "name": "stdout",
     "output_type": "stream",
     "text": [
      "WARNING:tensorflow:From /usr/local/lib/python3.6/dist-packages/tensorflow_core/python/ops/resource_variable_ops.py:1781: calling BaseResourceVariable.__init__ (from tensorflow.python.ops.resource_variable_ops) with constraint is deprecated and will be removed in a future version.\n",
      "Instructions for updating:\n",
      "If using Keras pass *_constraint arguments to layers.\n",
      "INFO:tensorflow:Assets written to: /opt/assets\n"
     ]
    }
   ],
   "source": [
    "tf.saved_model.save(model,\"/opt\")"
   ]
  },
  {
   "cell_type": "code",
   "execution_count": null,
   "metadata": {},
   "outputs": [],
   "source": []
  }
 ],
 "metadata": {
  "kernelspec": {
   "display_name": "Python 3",
   "language": "python",
   "name": "python3"
  },
  "language_info": {
   "codemirror_mode": {
    "name": "ipython",
    "version": 3
   },
   "file_extension": ".py",
   "mimetype": "text/x-python",
   "name": "python",
   "nbconvert_exporter": "python",
   "pygments_lexer": "ipython3",
   "version": "3.6.8"
  }
 },
 "nbformat": 4,
 "nbformat_minor": 4
}
